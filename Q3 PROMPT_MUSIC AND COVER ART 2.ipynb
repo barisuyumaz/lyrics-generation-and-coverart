{
 "cells": [
  {
   "cell_type": "code",
   "execution_count": 1,
   "metadata": {},
   "outputs": [
    {
     "name": "stdout",
     "output_type": "stream",
     "text": [
      "Write a song with the following details:\n",
      "- **Genre:** Rock  \n",
      "- **Mood:** Energetic and playful  \n",
      "- **Purpose:** For my pet  \n",
      "- **Custom Description:** A fun, high-energy song celebrating my dog’s mischievous and loving nature.  \n",
      "\n",
      "The lyrics should:\n",
      "- Match the specified genre and mood.\n",
      "- Reflect the purpose clearly and creatively.\n",
      "- Include vivid imagery and emotional depth.\n",
      "- Be engaging, with a natural flow and rhythm suitable for the chosen genre.\n"
     ]
    }
   ],
   "source": [
    "genre = \"Rock\"\n",
    "mood = \"Energetic and playful\"\n",
    "purpose = \"For my pet\"\n",
    "description = \"A fun, high-energy song celebrating my dog’s mischievous and loving nature.\"\n",
    "\n",
    "prompt = f\"\"\"Write a song with the following details:\n",
    "- **Genre:** {genre}  \n",
    "- **Mood:** {mood}  \n",
    "- **Purpose:** {purpose}  \n",
    "- **Custom Description:** {description}  \n",
    "\n",
    "The lyrics should:\n",
    "- Match the specified genre and mood.\n",
    "- Reflect the purpose clearly and creatively.\n",
    "- Include vivid imagery and emotional depth.\n",
    "- Be engaging, with a natural flow and rhythm suitable for the chosen genre.\"\"\"\n",
    "print(prompt)"
   ]
  },
  {
   "cell_type": "code",
   "execution_count": 2,
   "metadata": {},
   "outputs": [],
   "source": [
    "#OUTPUT LYRICS"
   ]
  },
  {
   "cell_type": "markdown",
   "metadata": {},
   "source": [
    "\"Tailspin Rebel\"\n",
    "[Verse 1]\n",
    "You crash into the morning like a hurricane,\n",
    "Paws on the floor, you’re at it again.\n",
    "With a wag and a bark, you’re out the door,\n",
    "Chasing your shadow, always wanting more.\n",
    "\n",
    "Chewed-up shoes and the mail’s gone missing,\n",
    "Your mischief’s a riot, but I can’t stop grinning.\n",
    "Every glance from your playful eyes,\n",
    "Turns chaos into a sweet surprise.\n",
    "\n",
    "[Pre-Chorus]\n",
    "You’re a blur, a streak, a thunderbolt,\n",
    "A furry whirlwind, impossible to halt.\n",
    "But in your madness, there’s a spark,\n",
    "That lights up my world, even in the dark.\n",
    "\n",
    "[Chorus]\n",
    "Oh, my tailspin rebel, running wild and free,\n",
    "You’ve got a heart full of love and a touch of crazy.\n",
    "Jumping fences, stealing my socks,\n",
    "You’re a rock ‘n’ roll anthem, breaking all the clocks.\n",
    "Tailspin rebel, never slow down,\n",
    "You’re the king of the world, my best friend in this town.\n",
    "\n",
    "[Verse 2]\n",
    "The leash is just a suggestion to you,\n",
    "You’ve got places to sniff, things to chew.\n",
    "Mud on your paws, ears to the wind,\n",
    "A four-legged outlaw, where do I begin?\n",
    "\n",
    "When you tilt your head, like you’ve done no wrong,\n",
    "It’s hard to stay mad for too long.\n",
    "You’re the joker, the thief, the star of the show,\n",
    "The kind of love only a dog can know.\n",
    "\n",
    "[Pre-Chorus]\n",
    "You’re a rebel with a wagging tail,\n",
    "A howling chorus, a love that won’t fail.\n",
    "Through your antics, I see the truth,\n",
    "Life’s an adventure, and you’re the proof.\n",
    "\n",
    "[Chorus]\n",
    "Oh, my tailspin rebel, running wild and free,\n",
    "You’ve got a heart full of love and a touch of crazy.\n",
    "Jumping fences, stealing my socks,\n",
    "You’re a rock ‘n’ roll anthem, breaking all the clocks.\n",
    "Tailspin rebel, never slow down,\n",
    "You’re the king of the world, my best friend in this town.\n",
    "\n",
    "[Bridge]\n",
    "Every wag is a rhythm, every bark’s a beat,\n",
    "You turn every moment into something sweet.\n",
    "From the muddy trails to the kitchen floor,\n",
    "You’ve taught me to live, to love, and explore.\n",
    "\n",
    "[Chorus]\n",
    "Oh, my tailspin rebel, running wild and free,\n",
    "You’ve got a heart full of love and a touch of crazy.\n",
    "Jumping fences, stealing my socks,\n",
    "You’re a rock ‘n’ roll anthem, breaking all the clocks.\n",
    "Tailspin rebel, never slow down,\n",
    "You’re the king of the world, my best friend in this town.\n",
    "\n",
    "[Outro]\n",
    "So here’s to the mischief, the mess, and the fun,\n",
    "To the wild-hearted dog who shines like the sun.\n",
    "Tailspin rebel, you’ve stolen my heart,\n",
    "A rock ‘n’ roll spirit, my work of art."
   ]
  },
  {
   "cell_type": "code",
   "execution_count": 3,
   "metadata": {},
   "outputs": [],
   "source": [
    "cover_art_prompt = \"\"\"Create an album cover for the song \"My Little Rebel.\"  \n",
    "- **Genre:** Rock  \n",
    "- **Mood:** Energetic and playful  \n",
    "- **Purpose:** For my pet  \n",
    "- **Key Visual Elements:** A mischievous dog with a wide grin, muddy paws, and a rock ‘n’ roll bandana. The background should feature vibrant energy, like a yard or open field, with bold, high-contrast colors (red, black, and yellow).\"\"\""
   ]
  },
  {
   "cell_type": "code",
   "execution_count": null,
   "metadata": {},
   "outputs": [],
   "source": [
    "#Covert Art for first second\n",
    "#https://github.com/barisuyumaz/lyrics-generation-and-coverart/blob/main/cover-art-2.jpg"
   ]
  }
 ],
 "metadata": {
  "kernelspec": {
   "display_name": "Python 3",
   "language": "python",
   "name": "python3"
  },
  "language_info": {
   "codemirror_mode": {
    "name": "ipython",
    "version": 3
   },
   "file_extension": ".py",
   "mimetype": "text/x-python",
   "name": "python",
   "nbconvert_exporter": "python",
   "pygments_lexer": "ipython3",
   "version": "3.11.3"
  }
 },
 "nbformat": 4,
 "nbformat_minor": 2
}
