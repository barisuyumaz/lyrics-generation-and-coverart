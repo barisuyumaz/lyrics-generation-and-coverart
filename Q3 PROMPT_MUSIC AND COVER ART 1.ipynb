{
 "cells": [
  {
   "cell_type": "code",
   "execution_count": null,
   "metadata": {},
   "outputs": [],
   "source": [
    "genre = \"Pop\"\n",
    "mood = \"Romantic\"\n",
    "purpose = \"For my love\"\n",
    "description = \"To my love who lives in a different city\"\n",
    "\n",
    "prompt = f\"\"\"Write a song with the following details:\n",
    "- **Genre:** {genre}  \n",
    "- **Mood:** {mood}  \n",
    "- **Purpose:** {purpose}  \n",
    "- **Custom Description:** {description}  \n",
    "\n",
    "The lyrics should:\n",
    "- Match the specified genre and mood.\n",
    "- Reflect the purpose clearly and creatively.\n",
    "- Include vivid imagery and emotional depth.\n",
    "- Be engaging, with a natural flow and rhythm suitable for the chosen genre.\"\"\"\n",
    "print(prompt)"
   ]
  },
  {
   "cell_type": "markdown",
   "metadata": {},
   "source": [
    "Write a song with the following details:\n",
    "- **Genre:** Pop  \n",
    "- **Mood:** Romantic  \n",
    "- **Purpose:** For my love  \n",
    "- **Custom Description:** To my love who lives in a different city  \n",
    "\n",
    "The lyrics should:\n",
    "- Match the specified genre and mood.\n",
    "- Reflect the purpose clearly and creatively.\n",
    "- Include vivid imagery and emotional depth.\n",
    "- Be engaging, with a natural flow and rhythm suitable for the chosen genre."
   ]
  },
  {
   "cell_type": "code",
   "execution_count": null,
   "metadata": {},
   "outputs": [],
   "source": [
    "#OUTPUT LYRICS"
   ]
  },
  {
   "cell_type": "markdown",
   "metadata": {},
   "source": [
    "\"Miles Apart, Close at Heart\"\n",
    "[Verse 1]\n",
    "City lights fade as I close my eyes,\n",
    "Your laughter echoes in the skies.\n",
    "The distance feels like an endless sea,\n",
    "But your love sails right back to me.\n",
    "\n",
    "Every heartbeat whispers your name,\n",
    "Through every sunset, it’s just the same.\n",
    "Even the stars seem to understand,\n",
    "That no space can hold what we’ve planned.\n",
    "\n",
    "[Pre-Chorus]\n",
    "Through the miles, I hear your call,\n",
    "Love’s a bridge that conquers all.\n",
    "Even when we’re far away,\n",
    "You’re the light that guides my way.\n",
    "\n",
    "[Chorus]\n",
    "Oh, we’re miles apart, but close at heart,\n",
    "No city lines can keep us apart.\n",
    "You’re in every breath, every song I sing,\n",
    "You’re my forever, my everything.\n",
    "The world may try, but it won’t divide,\n",
    "The love that flows like the ocean tide.\n",
    "\n",
    "[Verse 2]\n",
    "The train hums softly, it knows the ache,\n",
    "Counting moments till the dawn will break.\n",
    "Every raindrop writes your name,\n",
    "On my window, it feels the same.\n",
    "\n",
    "I dream of you beneath the moon,\n",
    "Our reunion’s a song that comes too soon.\n",
    "Each text, each word, it’s a flame so bright,\n",
    "Keeping me warm on a lonesome night.\n",
    "\n",
    "[Pre-Chorus]\n",
    "Through the miles, I feel your hand,\n",
    "In every breeze, I understand.\n",
    "Love’s a map that knows no end,\n",
    "You’re my lover, my closest friend.\n",
    "\n",
    "[Chorus]\n",
    "Oh, we’re miles apart, but close at heart,\n",
    "No city lines can keep us apart.\n",
    "You’re in every breath, every song I sing,\n",
    "You’re my forever, my everything.\n",
    "The world may try, but it won’t divide,\n",
    "The love that flows like the ocean tide.\n",
    "\n",
    "[Bridge]\n",
    "Someday soon, we’ll erase the space,\n",
    "I’ll hold you tight in a sweet embrace.\n",
    "But till then, know you’re not alone,\n",
    "In my soul, you’ve always found home.\n",
    "\n",
    "[Chorus]\n",
    "Oh, we’re miles apart, but close at heart,\n",
    "No city lines can keep us apart.\n",
    "You’re in every breath, every song I sing,\n",
    "You’re my forever, my everything.\n",
    "The world may try, but it won’t divide,\n",
    "The love that flows like the ocean tide.\n",
    "\n",
    "[Outro]\n",
    "City lights fade, but love’s a spark,\n",
    "Lighting the way when the nights are dark.\n",
    "Miles apart, but we’ll never stray,\n",
    "In my heart, you’re always here to stay."
   ]
  },
  {
   "cell_type": "code",
   "execution_count": 2,
   "metadata": {},
   "outputs": [],
   "source": [
    "cover_art_prompt = \"\"\"Create an album cover for the song \"Miles Apart, Close at Heart\"  \n",
    "- **Genre:** Pop  \n",
    "- **Mood:** Romantic  \n",
    "- **Purpose:** For my love  \n",
    "- **Key Visual Elements:** A starry night sky, a glowing silhouette of two lovers holding hands, and soft pastel colors like purple and blue. The atmosphere should feel dreamy, serene, and full of love.\"\"\""
   ]
  },
  {
   "cell_type": "code",
   "execution_count": null,
   "metadata": {},
   "outputs": [],
   "source": [
    "#Covert Art for first prompt\n",
    "#https://github.com/barisuyumaz/lyrics-generation-and-coverart/blob/main/cover-art-1.jpg"
   ]
  }
 ],
 "metadata": {
  "kernelspec": {
   "display_name": "Python 3",
   "language": "python",
   "name": "python3"
  },
  "language_info": {
   "codemirror_mode": {
    "name": "ipython",
    "version": 3
   },
   "file_extension": ".py",
   "mimetype": "text/x-python",
   "name": "python",
   "nbconvert_exporter": "python",
   "pygments_lexer": "ipython3",
   "version": "3.11.3"
  }
 },
 "nbformat": 4,
 "nbformat_minor": 2
}
